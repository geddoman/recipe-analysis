{
 "cells": [
  {
   "cell_type": "markdown",
   "metadata": {},
   "source": [
    "# The LDA Topic Model\n",
    "\n",
    "Latent Dirichilet Allocation or LDA is a method for extracting topics from a set of documents. Shown below are the extracted topics. The number of topics in the model can be changed using the ```n_topics``` parameter of the ```lda_model_maker``` function.\n",
    "***"
   ]
  },
  {
   "cell_type": "code",
   "execution_count": 17,
   "metadata": {},
   "outputs": [],
   "source": [
    "import pandas as pd\n",
    "from model_maker import lda_vis,lda_model_maker #custom model making module\n",
    "pd.options.display.max_colwidth = 200"
   ]
  },
  {
   "cell_type": "markdown",
   "metadata": {},
   "source": [
    "## Loading the cleaned and preprocessed recipe DataFrame"
   ]
  },
  {
   "cell_type": "code",
   "execution_count": 18,
   "metadata": {},
   "outputs": [],
   "source": [
    "recipe_df = pd.read_pickle('./data_sets/recipe_df')"
   ]
  },
  {
   "cell_type": "markdown",
   "metadata": {},
   "source": [
    "## Initializing the model"
   ]
  },
  {
   "cell_type": "code",
   "execution_count": 19,
   "metadata": {},
   "outputs": [],
   "source": [
    "lda_model = lda_model_maker(recipe_df['method_cln'], n_topics=20)"
   ]
  },
  {
   "cell_type": "markdown",
   "metadata": {},
   "source": [
    "## The Topics\n",
    "\n",
    "The code cell below creates a DataFrame that makes it slightly easier to read the words contained in the topics. Change the number inside the ```show_topics``` function to match the ```n_topics``` used above."
   ]
  },
  {
   "cell_type": "code",
   "execution_count": 14,
   "metadata": {},
   "outputs": [
    {
     "data": {
      "text/html": [
       "<div>\n",
       "<style scoped>\n",
       "    .dataframe tbody tr th:only-of-type {\n",
       "        vertical-align: middle;\n",
       "    }\n",
       "\n",
       "    .dataframe tbody tr th {\n",
       "        vertical-align: top;\n",
       "    }\n",
       "\n",
       "    .dataframe thead th {\n",
       "        text-align: right;\n",
       "    }\n",
       "</style>\n",
       "<table border=\"1\" class=\"dataframe\">\n",
       "  <thead>\n",
       "    <tr style=\"text-align: right;\">\n",
       "      <th></th>\n",
       "      <th>words</th>\n",
       "    </tr>\n",
       "    <tr>\n",
       "      <th>topic_no</th>\n",
       "      <th></th>\n",
       "    </tr>\n",
       "  </thead>\n",
       "  <tbody>\n",
       "    <tr>\n",
       "      <th>0</th>\n",
       "      <td>0.013*\"use\" + 0.012*\"chocolate\" + 0.012*\"bowl\" + 0.011*\"ham\" + 0.011*\"pan\" + 0.010*\"heat\" + 0.010*\"minute\" + 0.009*\"make\" + 0.009*\"cover\" + 0.008*\"remove\"</td>\n",
       "    </tr>\n",
       "    <tr>\n",
       "      <th>1</th>\n",
       "      <td>0.027*\"minute\" + 0.016*\"skillet\" + 0.015*\"salt\" + 0.014*\"oven\" + 0.014*\"cook\" + 0.013*\"add\" + 0.013*\"heat\" + 0.013*\"oil\" + 0.013*\"brown\" + 0.012*\"side\"</td>\n",
       "    </tr>\n",
       "    <tr>\n",
       "      <th>2</th>\n",
       "      <td>0.020*\"heat\" + 0.019*\"add\" + 0.018*\"rice\" + 0.017*\"minute\" + 0.015*\"pot\" + 0.013*\"cook\" + 0.013*\"cover\" + 0.012*\"medium\" + 0.011*\"chip\" + 0.011*\"simmer\"</td>\n",
       "    </tr>\n",
       "    <tr>\n",
       "      <th>3</th>\n",
       "      <td>0.021*\"add\" + 0.015*\"minute\" + 0.014*\"place\" + 0.014*\"heat\" + 0.014*\"cook\" + 0.012*\"pan\" + 0.010*\"stir\" + 0.009*\"remove\" + 0.009*\"chocolate\" + 0.008*\"top\"</td>\n",
       "    </tr>\n",
       "    <tr>\n",
       "      <th>4</th>\n",
       "      <td>0.028*\"mug\" + 0.012*\"heat\" + 0.011*\"water\" + 0.008*\"minute\" + 0.008*\"stir\" + 0.007*\"add\" + 0.007*\"fitting\" + 0.007*\"coffee\" + 0.007*\"boil\" + 0.006*\"pepper\"</td>\n",
       "    </tr>\n",
       "    <tr>\n",
       "      <th>5</th>\n",
       "      <td>0.019*\"minute\" + 0.017*\"add\" + 0.015*\"sugar\" + 0.014*\"place\" + 0.014*\"bake\" + 0.013*\"butter\" + 0.012*\"sheet\" + 0.010*\"bowl\" + 0.009*\"medium\" + 0.009*\"mixture\"</td>\n",
       "    </tr>\n",
       "    <tr>\n",
       "      <th>6</th>\n",
       "      <td>0.025*\"minute\" + 0.016*\"bowl\" + 0.016*\"salt\" + 0.015*\"add\" + 0.013*\"large\" + 0.013*\"water\" + 0.012*\"heat\" + 0.012*\"oil\" + 0.011*\"bake\" + 0.011*\"medium\"</td>\n",
       "    </tr>\n",
       "    <tr>\n",
       "      <th>7</th>\n",
       "      <td>0.024*\"minute\" + 0.017*\"heat\" + 0.015*\"add\" + 0.014*\"cook\" + 0.013*\"oven\" + 0.013*\"bread\" + 0.013*\"chicken\" + 0.012*\"place\" + 0.012*\"cheese\" + 0.011*\"bake\"</td>\n",
       "    </tr>\n",
       "    <tr>\n",
       "      <th>8</th>\n",
       "      <td>0.017*\"bowl\" + 0.016*\"minute\" + 0.015*\"heat\" + 0.013*\"mixture\" + 0.011*\"serve\" + 0.011*\"salt\" + 0.011*\"pan\" + 0.010*\"medium\" + 0.009*\"cook\" + 0.009*\"add\"</td>\n",
       "    </tr>\n",
       "    <tr>\n",
       "      <th>9</th>\n",
       "      <td>0.032*\"minute\" + 0.028*\"add\" + 0.026*\"cook\" + 0.023*\"heat\" + 0.020*\"stir\" + 0.017*\"medium\" + 0.016*\"salt\" + 0.013*\"bowl\" + 0.011*\"pepper\" + 0.010*\"season\"</td>\n",
       "    </tr>\n",
       "    <tr>\n",
       "      <th>10</th>\n",
       "      <td>0.057*\"turkey\" + 0.016*\"breast\" + 0.014*\"minute\" + 0.014*\"pan\" + 0.013*\"place\" + 0.011*\"ice\" + 0.011*\"heat\" + 0.010*\"glass\" + 0.010*\"add\" + 0.010*\"roast\"</td>\n",
       "    </tr>\n",
       "    <tr>\n",
       "      <th>11</th>\n",
       "      <td>0.019*\"add\" + 0.018*\"salt\" + 0.016*\"oil\" + 0.016*\"toss\" + 0.015*\"pepper\" + 0.013*\"bowl\" + 0.013*\"minute\" + 0.012*\"season\" + 0.011*\"lemon\" + 0.010*\"juice\"</td>\n",
       "    </tr>\n",
       "    <tr>\n",
       "      <th>12</th>\n",
       "      <td>0.021*\"dough\" + 0.018*\"minute\" + 0.012*\"sheet\" + 0.012*\"bowl\" + 0.011*\"bake\" + 0.010*\"cut\" + 0.010*\"use\" + 0.010*\"roll\" + 0.010*\"cookie\" + 0.009*\"inch\"</td>\n",
       "    </tr>\n",
       "    <tr>\n",
       "      <th>13</th>\n",
       "      <td>0.011*\"bowl\" + 0.010*\"use\" + 0.010*\"cream\" + 0.008*\"add\" + 0.008*\"minute\" + 0.008*\"sugar\" + 0.008*\"place\" + 0.008*\"chill\" + 0.007*\"cheesecloth\" + 0.007*\"cucumber\"</td>\n",
       "    </tr>\n",
       "    <tr>\n",
       "      <th>14</th>\n",
       "      <td>0.024*\"minute\" + 0.021*\"add\" + 0.014*\"bowl\" + 0.013*\"heat\" + 0.012*\"butter\" + 0.011*\"use\" + 0.010*\"place\" + 0.010*\"bake\" + 0.010*\"dough\" + 0.010*\"medium\"</td>\n",
       "    </tr>\n",
       "    <tr>\n",
       "      <th>15</th>\n",
       "      <td>0.019*\"bake\" + 0.019*\"bowl\" + 0.018*\"sugar\" + 0.016*\"minute\" + 0.016*\"mixture\" + 0.014*\"egg\" + 0.012*\"pan\" + 0.011*\"sheet\" + 0.011*\"cake\" + 0.010*\"flour\"</td>\n",
       "    </tr>\n",
       "    <tr>\n",
       "      <th>16</th>\n",
       "      <td>0.060*\"phyllo\" + 0.020*\"sugar\" + 0.015*\"top\" + 0.012*\"layer\" + 0.010*\"bowl\" + 0.010*\"minute\" + 0.010*\"place\" + 0.009*\"bake\" + 0.008*\"cream\" + 0.008*\"container\"</td>\n",
       "    </tr>\n",
       "    <tr>\n",
       "      <th>17</th>\n",
       "      <td>0.027*\"heat\" + 0.024*\"minute\" + 0.019*\"add\" + 0.017*\"pan\" + 0.015*\"mixture\" + 0.014*\"place\" + 0.012*\"cook\" + 0.010*\"medium\" + 0.010*\"bowl\" + 0.009*\"serve\"</td>\n",
       "    </tr>\n",
       "    <tr>\n",
       "      <th>18</th>\n",
       "      <td>0.024*\"minute\" + 0.022*\"dough\" + 0.018*\"bake\" + 0.015*\"let\" + 0.014*\"cool\" + 0.014*\"add\" + 0.013*\"oven\" + 0.013*\"bowl\" + 0.012*\"sugar\" + 0.012*\"cup\"</td>\n",
       "    </tr>\n",
       "    <tr>\n",
       "      <th>19</th>\n",
       "      <td>0.017*\"minute\" + 0.016*\"stir\" + 0.016*\"cook\" + 0.015*\"heat\" + 0.015*\"add\" + 0.015*\"pan\" + 0.012*\"medium\" + 0.011*\"oven\" + 0.010*\"top\" + 0.010*\"bowl\"</td>\n",
       "    </tr>\n",
       "  </tbody>\n",
       "</table>\n",
       "</div>"
      ],
      "text/plain": [
       "                                                                                                                                                                       words\n",
       "topic_no                                                                                                                                                                    \n",
       "0                 0.013*\"use\" + 0.012*\"chocolate\" + 0.012*\"bowl\" + 0.011*\"ham\" + 0.011*\"pan\" + 0.010*\"heat\" + 0.010*\"minute\" + 0.009*\"make\" + 0.009*\"cover\" + 0.008*\"remove\"\n",
       "1                    0.027*\"minute\" + 0.016*\"skillet\" + 0.015*\"salt\" + 0.014*\"oven\" + 0.014*\"cook\" + 0.013*\"add\" + 0.013*\"heat\" + 0.013*\"oil\" + 0.013*\"brown\" + 0.012*\"side\"\n",
       "2                   0.020*\"heat\" + 0.019*\"add\" + 0.018*\"rice\" + 0.017*\"minute\" + 0.015*\"pot\" + 0.013*\"cook\" + 0.013*\"cover\" + 0.012*\"medium\" + 0.011*\"chip\" + 0.011*\"simmer\"\n",
       "3                 0.021*\"add\" + 0.015*\"minute\" + 0.014*\"place\" + 0.014*\"heat\" + 0.014*\"cook\" + 0.012*\"pan\" + 0.010*\"stir\" + 0.009*\"remove\" + 0.009*\"chocolate\" + 0.008*\"top\"\n",
       "4                0.028*\"mug\" + 0.012*\"heat\" + 0.011*\"water\" + 0.008*\"minute\" + 0.008*\"stir\" + 0.007*\"add\" + 0.007*\"fitting\" + 0.007*\"coffee\" + 0.007*\"boil\" + 0.006*\"pepper\"\n",
       "5             0.019*\"minute\" + 0.017*\"add\" + 0.015*\"sugar\" + 0.014*\"place\" + 0.014*\"bake\" + 0.013*\"butter\" + 0.012*\"sheet\" + 0.010*\"bowl\" + 0.009*\"medium\" + 0.009*\"mixture\"\n",
       "6                    0.025*\"minute\" + 0.016*\"bowl\" + 0.016*\"salt\" + 0.015*\"add\" + 0.013*\"large\" + 0.013*\"water\" + 0.012*\"heat\" + 0.012*\"oil\" + 0.011*\"bake\" + 0.011*\"medium\"\n",
       "7                0.024*\"minute\" + 0.017*\"heat\" + 0.015*\"add\" + 0.014*\"cook\" + 0.013*\"oven\" + 0.013*\"bread\" + 0.013*\"chicken\" + 0.012*\"place\" + 0.012*\"cheese\" + 0.011*\"bake\"\n",
       "8                  0.017*\"bowl\" + 0.016*\"minute\" + 0.015*\"heat\" + 0.013*\"mixture\" + 0.011*\"serve\" + 0.011*\"salt\" + 0.011*\"pan\" + 0.010*\"medium\" + 0.009*\"cook\" + 0.009*\"add\"\n",
       "9                 0.032*\"minute\" + 0.028*\"add\" + 0.026*\"cook\" + 0.023*\"heat\" + 0.020*\"stir\" + 0.017*\"medium\" + 0.016*\"salt\" + 0.013*\"bowl\" + 0.011*\"pepper\" + 0.010*\"season\"\n",
       "10                 0.057*\"turkey\" + 0.016*\"breast\" + 0.014*\"minute\" + 0.014*\"pan\" + 0.013*\"place\" + 0.011*\"ice\" + 0.011*\"heat\" + 0.010*\"glass\" + 0.010*\"add\" + 0.010*\"roast\"\n",
       "11                 0.019*\"add\" + 0.018*\"salt\" + 0.016*\"oil\" + 0.016*\"toss\" + 0.015*\"pepper\" + 0.013*\"bowl\" + 0.013*\"minute\" + 0.012*\"season\" + 0.011*\"lemon\" + 0.010*\"juice\"\n",
       "12                   0.021*\"dough\" + 0.018*\"minute\" + 0.012*\"sheet\" + 0.012*\"bowl\" + 0.011*\"bake\" + 0.010*\"cut\" + 0.010*\"use\" + 0.010*\"roll\" + 0.010*\"cookie\" + 0.009*\"inch\"\n",
       "13        0.011*\"bowl\" + 0.010*\"use\" + 0.010*\"cream\" + 0.008*\"add\" + 0.008*\"minute\" + 0.008*\"sugar\" + 0.008*\"place\" + 0.008*\"chill\" + 0.007*\"cheesecloth\" + 0.007*\"cucumber\"\n",
       "14                 0.024*\"minute\" + 0.021*\"add\" + 0.014*\"bowl\" + 0.013*\"heat\" + 0.012*\"butter\" + 0.011*\"use\" + 0.010*\"place\" + 0.010*\"bake\" + 0.010*\"dough\" + 0.010*\"medium\"\n",
       "15                 0.019*\"bake\" + 0.019*\"bowl\" + 0.018*\"sugar\" + 0.016*\"minute\" + 0.016*\"mixture\" + 0.014*\"egg\" + 0.012*\"pan\" + 0.011*\"sheet\" + 0.011*\"cake\" + 0.010*\"flour\"\n",
       "16           0.060*\"phyllo\" + 0.020*\"sugar\" + 0.015*\"top\" + 0.012*\"layer\" + 0.010*\"bowl\" + 0.010*\"minute\" + 0.010*\"place\" + 0.009*\"bake\" + 0.008*\"cream\" + 0.008*\"container\"\n",
       "17                0.027*\"heat\" + 0.024*\"minute\" + 0.019*\"add\" + 0.017*\"pan\" + 0.015*\"mixture\" + 0.014*\"place\" + 0.012*\"cook\" + 0.010*\"medium\" + 0.010*\"bowl\" + 0.009*\"serve\"\n",
       "18                      0.024*\"minute\" + 0.022*\"dough\" + 0.018*\"bake\" + 0.015*\"let\" + 0.014*\"cool\" + 0.014*\"add\" + 0.013*\"oven\" + 0.013*\"bowl\" + 0.012*\"sugar\" + 0.012*\"cup\"\n",
       "19                      0.017*\"minute\" + 0.016*\"stir\" + 0.016*\"cook\" + 0.015*\"heat\" + 0.015*\"add\" + 0.015*\"pan\" + 0.012*\"medium\" + 0.011*\"oven\" + 0.010*\"top\" + 0.010*\"bowl\""
      ]
     },
     "execution_count": 14,
     "metadata": {},
     "output_type": "execute_result"
    }
   ],
   "source": [
    "lda_df = pd.DataFrame(\n",
    "    data=[(topic_num, words) for topic_num, words in lda_model.show_topics(20)],\n",
    "    columns=['topic_no','words']\n",
    ")\n",
    "lda_df.set_index('topic_no',inplace=True)\n",
    "lda_df"
   ]
  }
 ],
 "metadata": {
  "kernelspec": {
   "display_name": "Python 3",
   "language": "python",
   "name": "python3"
  },
  "language_info": {
   "codemirror_mode": {
    "name": "ipython",
    "version": 3
   },
   "file_extension": ".py",
   "mimetype": "text/x-python",
   "name": "python",
   "nbconvert_exporter": "python",
   "pygments_lexer": "ipython3",
   "version": "3.7.1"
  }
 },
 "nbformat": 4,
 "nbformat_minor": 2
}
